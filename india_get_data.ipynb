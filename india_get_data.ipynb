{
 "cells": [
  {
   "cell_type": "code",
   "execution_count": 44,
   "metadata": {},
   "outputs": [],
   "source": [
    "from selenium import webdriver\n",
    "from bs4 import BeautifulSoup\n",
    "from selenium.webdriver.common.keys import Keys\n",
    "from selenium.webdriver.support.select import Select\n",
    "from selenium.common.exceptions import StaleElementReferenceException\n",
    "from selenium.common.exceptions import TimeoutException\n",
    "from selenium.common.exceptions import NoSuchElementException\n",
    "from selenium.webdriver.common.by import By\n",
    "from selenium.webdriver.support.ui import WebDriverWait\n",
    "from selenium.webdriver.support import expected_conditions as EC \n",
    "import time\n",
    "import datetime\n",
    "import os\n",
    "import pandas as pd\n",
    "from random import randint\n",
    "import platform\n",
    "import csv\n",
    "import json\n",
    "import pdfkit\n",
    "\n",
    "from india_funs import get_jobcard_info\n",
    "#from india_funs import get_jobcard_infoNew\n",
    "from india_funs import open_state\n",
    "from india_funs import GetCodes\n",
    "from india_funs import scrape_data\n",
    "from india_funs import FixCards"
   ]
  },
  {
   "cell_type": "code",
   "execution_count": 45,
   "metadata": {},
   "outputs": [],
   "source": [
    "###################################\n",
    "# Start chrome simulator\n",
    "###################################\n",
    "if platform.system() == 'Windows':\n",
    "    wd=webdriver.Chrome(\"C:/Users/irjpf02/Documents/Python Scripts/chromedriver.exe\")\n",
    "else: ##when working on my mac\n",
    "    wd=webdriver.Chrome(\"/Users/joaorodrigues/Downloads/chromedriver\")"
   ]
  },
  {
   "cell_type": "code",
   "execution_count": 40,
   "metadata": {},
   "outputs": [],
   "source": [
    "###################################\n",
    "# Choose state and get Panchayat codes\n",
    "###################################\n",
    "stateN = '18'"
   ]
  },
  {
   "cell_type": "code",
   "execution_count": 41,
   "metadata": {},
   "outputs": [],
   "source": [
    "###################################\n",
    "# Read in panchayat codes for this state\n",
    "###################################\n",
    "with open('dicpanchayatcodes'+stateN+'.txt','r') as StateFile:\n",
    "    #x = StateFile.readlines()\n",
    "    x = [line.rstrip() for line in StateFile]\n",
    "    \n",
    "###################################\n",
    "# Turn list of strings into list dictionaries \n",
    "###################################\n",
    "PanList = [json.loads(x[i]) for i in range(0,len(x)-1)] "
   ]
  },
  {
   "cell_type": "code",
   "execution_count": null,
   "metadata": {},
   "outputs": [],
   "source": [
    "t0 = time.time()\n",
    "cards,bcards,Bpans = scrape_data(PanList[8:10],stateN,wd)\n",
    "t1 = time.time()\n",
    "total = t1 - t0\n",
    "print(total)"
   ]
  },
  {
   "cell_type": "code",
   "execution_count": 31,
   "metadata": {},
   "outputs": [],
   "source": [
    "newcards,am,rm,om,cm = FixCards(cards)"
   ]
  },
  {
   "cell_type": "code",
   "execution_count": 36,
   "metadata": {},
   "outputs": [],
   "source": [
    "###################################\n",
    "# Generate CSV file\n",
    "###################################\n",
    "csv_columns = list(cards[0].keys())\n",
    "datafile = newcards\n",
    "csv_file = \"jobcards.csv\"\n",
    "try:\n",
    "    with open(csv_file, 'w') as csvfile:\n",
    "        writer = csv.DictWriter(csvfile, fieldnames=csv_columns, lineterminator = '\\n')\n",
    "        writer.writeheader()\n",
    "        for data in datafile:\n",
    "            writer.writerow(data)\n",
    "except IOError:\n",
    "    print(\"I/O error\") "
   ]
  }
 ],
 "metadata": {
  "kernelspec": {
   "display_name": "Python 3",
   "language": "python",
   "name": "python3"
  },
  "language_info": {
   "codemirror_mode": {
    "name": "ipython",
    "version": 3
   },
   "file_extension": ".py",
   "mimetype": "text/x-python",
   "name": "python",
   "nbconvert_exporter": "python",
   "pygments_lexer": "ipython3",
   "version": "3.8.8"
  }
 },
 "nbformat": 4,
 "nbformat_minor": 2
}
